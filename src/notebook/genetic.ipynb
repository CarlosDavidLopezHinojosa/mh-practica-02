{
 "cells": [
  {
   "cell_type": "markdown",
   "metadata": {},
   "source": [
    "# Metaheurísticas: Práctica 2\n",
    "\n",
    "El objetivo de este cuaderno es poner en práctica el trabajo y la investigación realizados por nuestro grupo de trabajo, formado por:\n",
    "\n",
    "- Javier Gómez Aparicio\n",
    "- Carlos David López Hinojosa\n",
    "- Alejandro Luque Núñez\n",
    "\n",
    "Este cuaderno usa funciones que están implementadas en ficheros `.py` de la carpeta fuente `src/`"
   ]
  },
  {
   "cell_type": "code",
   "execution_count": null,
   "metadata": {},
   "outputs": [],
   "source": [
    "import utils\n",
    "import stats"
   ]
  },
  {
   "cell_type": "markdown",
   "metadata": {},
   "source": [
    "## Selección\n",
    "\n",
    "- Torneo binario: Selecciona aleatoriamente dos individuos y elige el mejor. Es simple y eficaz, asegurando una presión selectiva equilibrada.\n",
    "\n",
    "- Ruleta (proporcional a la aptitud): Probabilidad de selección basada en la calidad de la solución. Puede ser útil, pero en problemas de optimización con valores de aptitud muy distintos puede ser menos efectivo.\n",
    "\n",
    "- Ranking: Ordena los individuos por aptitud y asigna probabilidades de selección proporcionales a su posición. Es una opción más estable que la ruleta.\n",
    "\n",
    "Mejor opción recomendada: Torneo binario, ya que mantiene un buen equilibrio entre explotación y exploración."
   ]
  },
  {
   "cell_type": "code",
   "execution_count": null,
   "metadata": {},
   "outputs": [],
   "source": []
  },
  {
   "cell_type": "markdown",
   "metadata": {},
   "source": [
    "## Cruce\n",
    "\n",
    "- Cruce de un punto o multipunto: Intercambia segmentos de los cromosomas entre los padres en una o varias posiciones fijas.\n",
    "\n",
    "- Cruce uniforme: Mezcla genes de ambos padres con una probabilidad del $50\\%$. Mantiene diversidad pero puede perder estructuras buenas.\n",
    "\n",
    "- Cruce aritmético (promediado): Genera un hijo tomando un promedio ponderado de los valores de los padres, útil en problemas con variables continuas.\n",
    "\n",
    "Mejor opción recomendada: Cruce aritmético, ya que el problema requiere optimización de valores continuos y este operador favorece una mejor interpolación entre soluciones."
   ]
  },
  {
   "cell_type": "code",
   "execution_count": null,
   "metadata": {},
   "outputs": [],
   "source": []
  },
  {
   "cell_type": "markdown",
   "metadata": {},
   "source": [
    "## Mutación\n",
    "\n",
    "- Mutación gaussiana: Añade ruido gaussiano a los genes para realizar pequeñas variaciones en los coeficientes.\n",
    "\n",
    "- Mutación uniforme: Reemplaza valores por otros dentro de un rango aleatorio.\n",
    "\n",
    "- Mutación por perturbación adaptativa: Reduce o aumenta la magnitud de la mutación según la etapa de la evolución.\n",
    "\n",
    "Mejor opción recomendada: Mutación gaussiana, ya que permite pequeños ajustes en los coeficientes sin alterar demasiado la convergencia."
   ]
  },
  {
   "cell_type": "code",
   "execution_count": null,
   "metadata": {},
   "outputs": [],
   "source": []
  },
  {
   "cell_type": "markdown",
   "metadata": {},
   "source": [
    "## Reemplazamiento\n",
    "\n",
    "- Reemplazo generacional completo: Sustituye toda la población por los hijos generados.\n",
    "\n",
    "- Elitismo: Mantiene los mejores individuos de la generación anterior.\n",
    "\n",
    "- Reemplazo estacionario: Solo reemplaza una parte de la población en cada iteración.\n",
    "\n",
    "Mejor opción recomendada: Elitismo combinado con reemplazo estacionario, ya que asegura la retención de las mejores soluciones mientras introduce diversidad."
   ]
  },
  {
   "cell_type": "code",
   "execution_count": null,
   "metadata": {},
   "outputs": [],
   "source": []
  },
  {
   "cell_type": "markdown",
   "metadata": {},
   "source": [
    "## Algoritmo Genético"
   ]
  },
  {
   "cell_type": "code",
   "execution_count": null,
   "metadata": {},
   "outputs": [],
   "source": [
    "def genetic_function_optimization(pop_size: int, generations: int, num_coefs,\n",
    "                                  selection: callable, crossing: callable, \n",
    "                                  mutation: callable, replacement: callable, \n",
    "                                  fitness: callable) -> tuple:\n",
    "    \"\"\"\n",
    "    Genetic function optimization\n",
    "        Args: \n",
    "            pop_size: (int) Tamaño de la población.\n",
    "            generations: (int) Número de iteraciones.\n",
    "            num_coefs: (int) Número de coeficientes por individuo.\n",
    "            selection: (callable) Función de selección.\n",
    "            crossing: (callable) Función de cruce.\n",
    "            mutation: (callable) Función de mutación.\n",
    "            replacement: (callable) Función de reemplazo.\n",
    "            fitness: (callable) Función de fitness.\n",
    "        Returns:\n",
    "            (tuple) Mejor individuo y su fitness.\n",
    "    \"\"\"\n",
    "\n",
    "    pop = utils.initial_population(pop_size, num_coefs)\n",
    "    elite = [min(pop, key=fitness)]\n",
    "\n",
    "    for _ in range(generations):\n",
    "        new_pop = []\n",
    "        for _ in range(pop_size // 2):\n",
    "            \n",
    "            p1, p2 = selection(pop, fitness), selection(pop, fitness)\n",
    "            while p1 is p2: # Evita hijos de padres iguales\n",
    "                p2 = selection(pop, fitness)\n",
    "            \n",
    "            ch1, ch2 = crossing(p1, p2), crossing(p2, p1)\n",
    "            ch1, ch2 = mutation(ch1), mutation(ch2)\n",
    "\n",
    "            new_pop.extend([ch1, ch2])\n",
    "\n",
    "        replacement(pop, new_pop, elite)\n",
    "\n",
    "    return min(elite, key=fitness)\n"
   ]
  }
 ],
 "metadata": {
  "kernelspec": {
   "display_name": "venv",
   "language": "python",
   "name": "python3"
  },
  "language_info": {
   "name": "python",
   "version": "3.13.2"
  }
 },
 "nbformat": 4,
 "nbformat_minor": 2
}
