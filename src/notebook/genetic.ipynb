{
 "cells": [
  {
   "cell_type": "markdown",
   "metadata": {},
   "source": [
    "# Metaheurísticas: Práctica 2\n",
    "\n",
    "El objetivo de este cuaderno es poner en práctica el trabajo y la investigación realizados por nuestro grupo de trabajo, formado por:\n",
    "\n",
    "- Javier Gómez Aparicio\n",
    "- Carlos David López Hinojosa\n",
    "- Alejandro Luque Núñez\n",
    "\n",
    "Este cuaderno usa funciones que están implementadas en ficheros `.py` de la carpeta fuente `src/`"
   ]
  },
  {
   "cell_type": "code",
   "execution_count": null,
   "metadata": {},
   "outputs": [],
   "source": [
    "import utils\n",
    "import stats"
   ]
  },
  {
   "cell_type": "markdown",
   "metadata": {},
   "source": [
    "## Selección"
   ]
  },
  {
   "cell_type": "code",
   "execution_count": null,
   "metadata": {},
   "outputs": [],
   "source": []
  },
  {
   "cell_type": "markdown",
   "metadata": {},
   "source": [
    "## Cruce"
   ]
  },
  {
   "cell_type": "code",
   "execution_count": null,
   "metadata": {},
   "outputs": [],
   "source": []
  },
  {
   "cell_type": "markdown",
   "metadata": {},
   "source": [
    "## Mutación"
   ]
  },
  {
   "cell_type": "code",
   "execution_count": null,
   "metadata": {},
   "outputs": [],
   "source": []
  },
  {
   "cell_type": "markdown",
   "metadata": {},
   "source": [
    "## Reemplazamiento"
   ]
  },
  {
   "cell_type": "code",
   "execution_count": null,
   "metadata": {},
   "outputs": [],
   "source": []
  },
  {
   "cell_type": "markdown",
   "metadata": {},
   "source": [
    "## Algoritmo Genético"
   ]
  },
  {
   "cell_type": "code",
   "execution_count": null,
   "metadata": {},
   "outputs": [],
   "source": [
    "def genetic_function_optimization(pop_size: int, generations: int, num_coefs,\n",
    "                                  selection: callable, crossing: callable, \n",
    "                                  mutation: callable, replacement: callable, \n",
    "                                  fitness: callable) -> tuple:\n",
    "    \"\"\"\n",
    "    Genetic function optimization\n",
    "        Args: \n",
    "            pop_size: (int) Tamaño de la población.\n",
    "            generations: (int) Número de iteraciones.\n",
    "            num_coefs: (int) Número de coeficientes por individuo.\n",
    "            selection: (callable) Función de selección.\n",
    "            crossing: (callable) Función de cruce.\n",
    "            mutation: (callable) Función de mutación.\n",
    "            replacement: (callable) Función de reemplazo.\n",
    "            fitness: (callable) Función de fitness.\n",
    "        Returns:\n",
    "            (tuple) Mejor individuo y su fitness.\n",
    "    \"\"\"\n",
    "\n",
    "    pop = utils.initial_population(pop_size, num_coefs)\n",
    "    elite = [min(pop, key=fitness)]\n",
    "\n",
    "    for _ in range(generations):\n",
    "        new_pop = []\n",
    "        for _ in range(pop_size // 2):\n",
    "            \n",
    "            p1, p2 = selection(pop, fitness), selection(pop, fitness)\n",
    "            while p1 is p2: # Evita hijos de padres iguales\n",
    "                p2 = selection(pop, fitness)\n",
    "            \n",
    "            ch1, ch2 = crossing(p1, p2), crossing(p2, p1)\n",
    "            ch1, ch2 = mutation(ch1), mutation(ch2)\n",
    "\n",
    "            new_pop.extend([ch1, ch2])\n",
    "\n",
    "        replacement(pop, new_pop, elite)\n",
    "\n",
    "    return min(elite, key=fitness)\n"
   ]
  }
 ],
 "metadata": {
  "kernelspec": {
   "display_name": "venv",
   "language": "python",
   "name": "python3"
  },
  "language_info": {
   "name": "python",
   "version": "3.13.2"
  }
 },
 "nbformat": 4,
 "nbformat_minor": 2
}
