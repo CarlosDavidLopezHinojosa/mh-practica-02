{
 "cells": [
  {
   "cell_type": "markdown",
   "metadata": {},
   "source": [
    "# Metaheurísticas: Práctica 2\n",
    "\n",
    "El objetivo de este cuaderno es poner en práctica el trabajo y la investigación realizados por nuestro grupo de trabajo, formado por:\n",
    "\n",
    "- Javier Gómez Aparicio\n",
    "- Carlos David López Hinojosa\n",
    "- Alejandro Luque Núñez\n",
    "\n",
    "Este cuaderno usa funciones que están implementadas en ficheros `.py` de la carpeta fuente `src/`"
   ]
  },
  {
   "cell_type": "code",
   "execution_count": null,
   "metadata": {},
   "outputs": [],
   "source": [
    "def genetic_function_optimization(pop_size: int, epochs: int, \n",
    "                                  select: callable, crossing: callable, \n",
    "                                  mutation: callable, settle: callable, \n",
    "                                  fitness: callable) -> tuple:\n",
    "    \"\"\"\n",
    "    Genetic function optimization\n",
    "        Args: \n",
    "            pop_size: (int) Tamaño de la población.\n",
    "            epochs: (int) Número de iteraciones.\n",
    "            select: (callable) Función de selección.\n",
    "            crossing: (callable) Función de cruce.\n",
    "            mutation: (callable) Función de mutación.\n",
    "            settle: (callable) Función de asentamiento.\n",
    "            fitness: (callable) Función de fitness.\n",
    "        Returns:\n",
    "            (tuple) Mejor individuo y su fitness.\n",
    "    \"\"\""
   ]
  }
 ],
 "metadata": {
  "language_info": {
   "name": "python"
  }
 },
 "nbformat": 4,
 "nbformat_minor": 2
}
